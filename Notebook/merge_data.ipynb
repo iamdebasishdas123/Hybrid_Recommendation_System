{
 "cells": [
  {
   "cell_type": "markdown",
   "metadata": {},
   "source": [
    "### 1. Import libraries"
   ]
  },
  {
   "cell_type": "code",
   "execution_count": null,
   "metadata": {},
   "outputs": [],
   "source": [
    "import os\n",
    "import pandas as pd\n",
    "import json\n",
    "import ast\n"
   ]
  },
  {
   "cell_type": "markdown",
   "metadata": {},
   "source": [
    "### 2. Marge Data"
   ]
  },
  {
   "cell_type": "code",
   "execution_count": null,
   "metadata": {},
   "outputs": [],
   "source": [
    "path=r\"C:\\Users\\Debasish Das\\Desktop\\Internship Project\\Hybrid_rccomendation_System\\data\"\n",
    "all_files=os.listdir(path)\n",
    "\n",
    "\n",
    "#get_all data\n",
    "df=pd.read_csv(os.path.join(path,all_files[0]))\n",
    "df['users'] = df['users'].apply(ast.literal_eval)\n",
    "user=pd.json_normalize(df[\"users\"])\n",
    "\n",
    "#inspire data\n",
    "df=pd.read_csv(os.path.join(path,all_files[1]))\n",
    "df['posts'] = df['posts'].apply(ast.literal_eval)\n",
    "inspire=pd.json_normalize(df[\"posts\"])\n",
    "\n",
    "#liked data\n",
    "\n",
    "df=pd.read_csv(os.path.join(path,all_files[2]))\n",
    "df['posts'] = df['posts'].apply(ast.literal_eval)\n",
    "liked=pd.json_normalize(df[\"posts\"])\n",
    "\n",
    "#rating data\n",
    "\n",
    "df=pd.read_csv(os.path.join(path,all_files[3]))\n",
    "df['posts'] = df['posts'].apply(ast.literal_eval)\n",
    "rated=pd.json_normalize(df[\"posts\"])\n",
    "\n",
    "\n",
    "#view data  \n",
    "\n",
    "df=pd.read_csv(os.path.join(path,all_files[4]))\n",
    "df['posts'] = df['posts'].apply(ast.literal_eval)\n",
    "view=pd.json_normalize(df[\"posts\"])\n",
    "\n"
   ]
  },
  {
   "cell_type": "code",
   "execution_count": null,
   "metadata": {},
   "outputs": [],
   "source": [
    "# df=pd.concat([user,inspire,liked,rated,summary,view], axis=1)"
   ]
  },
  {
   "cell_type": "markdown",
   "metadata": {},
   "source": [
    "### 3. User data"
   ]
  },
  {
   "cell_type": "code",
   "execution_count": null,
   "metadata": {},
   "outputs": [],
   "source": [
    "user[\"latitude\"]"
   ]
  },
  {
   "cell_type": "code",
   "execution_count": null,
   "metadata": {},
   "outputs": [],
   "source": [
    "user[\"id\"].is_unique"
   ]
  },
  {
   "cell_type": "code",
   "execution_count": null,
   "metadata": {},
   "outputs": [],
   "source": [
    "user.columns"
   ]
  },
  {
   "cell_type": "code",
   "execution_count": null,
   "metadata": {},
   "outputs": [],
   "source": [
    "user=user.drop(columns=[ 'last_name', 'username', 'email',\n",
    "       'profile_url','website_url', 'instagram-url', 'youtube_url',\n",
    "       'tictok_url', 'isVerified', 'referral_code', 'has_wallet', 'last_login', 'is_online', 'latitude', 'longitude'])"
   ]
  },
  {
   "cell_type": "code",
   "execution_count": null,
   "metadata": {},
   "outputs": [],
   "source": [
    "user.columns"
   ]
  },
  {
   "cell_type": "markdown",
   "metadata": {},
   "source": [
    "### 4. inspire"
   ]
  },
  {
   "cell_type": "code",
   "execution_count": null,
   "metadata": {},
   "outputs": [],
   "source": [
    "inspire.columns"
   ]
  },
  {
   "cell_type": "code",
   "execution_count": null,
   "metadata": {},
   "outputs": [],
   "source": [
    "inspire=inspire.drop(columns=['slug', 'identifier', 'contract_address', 'chain_id',\n",
    "       'chart_url', 'is_locked', 'created_at', 'last_name',\n",
    "       'bookmarked', 'thumbnail_url',\n",
    "       'gif_thumbnail_url', 'picture_url', 'category.image_url', 'baseToken.address',\n",
    "       'baseToken.name', 'baseToken.symbol', 'baseToken.image_url'])"
   ]
  },
  {
   "cell_type": "code",
   "execution_count": null,
   "metadata": {},
   "outputs": [],
   "source": [
    "inspire.columns"
   ]
  },
  {
   "cell_type": "markdown",
   "metadata": {},
   "source": [
    "### 5. liked data"
   ]
  },
  {
   "cell_type": "code",
   "execution_count": null,
   "metadata": {},
   "outputs": [],
   "source": [
    "liked.head()"
   ]
  },
  {
   "cell_type": "code",
   "execution_count": null,
   "metadata": {},
   "outputs": [],
   "source": [
    "liked.columns"
   ]
  },
  {
   "cell_type": "code",
   "execution_count": null,
   "metadata": {},
   "outputs": [],
   "source": [
    "liked=liked.drop(columns=['slug','identifier', 'contract_address', 'chain_id',\n",
    "       'chart_url', 'is_locked', 'created_at', 'last_name', 'bookmarked', 'thumbnail_url',\n",
    "       'gif_thumbnail_url', 'following', 'picture_url', 'category.image_url', 'baseToken.address',\n",
    "       'baseToken.name', 'baseToken.symbol', 'baseToken.image_url'])"
   ]
  },
  {
   "cell_type": "markdown",
   "metadata": {},
   "source": [
    "### 6. Rating"
   ]
  },
  {
   "cell_type": "code",
   "execution_count": null,
   "metadata": {},
   "outputs": [],
   "source": [
    "rated.head()"
   ]
  },
  {
   "cell_type": "code",
   "execution_count": null,
   "metadata": {},
   "outputs": [],
   "source": [
    "rated.columns"
   ]
  },
  {
   "cell_type": "code",
   "execution_count": null,
   "metadata": {},
   "outputs": [],
   "source": [
    "rated=rated.drop(columns=['slug', 'identifier', 'contract_address', 'chain_id',\n",
    "       'chart_url', 'is_locked', 'created_at', 'first_name', 'last_name', 'bookmarked', 'thumbnail_url',\n",
    "       'gif_thumbnail_url', 'following', 'picture_url', \n",
    "        'category.image_url', 'baseToken.address',\n",
    "       'baseToken.name', 'baseToken.symbol', 'baseToken.image_url'])"
   ]
  },
  {
   "cell_type": "markdown",
   "metadata": {},
   "source": [
    "### 8. view"
   ]
  },
  {
   "cell_type": "code",
   "execution_count": null,
   "metadata": {},
   "outputs": [],
   "source": [
    "view.head()"
   ]
  },
  {
   "cell_type": "code",
   "execution_count": null,
   "metadata": {},
   "outputs": [],
   "source": [
    "view.columns"
   ]
  },
  {
   "cell_type": "code",
   "execution_count": null,
   "metadata": {},
   "outputs": [],
   "source": [
    "view=view.drop(columns=['slug', 'identifier', 'contract_address', 'chain_id',\n",
    "       'chart_url', 'is_locked', 'created_at', 'last_name', 'bookmarked', 'thumbnail_url',\n",
    "       'gif_thumbnail_url', 'following', 'picture_url',\n",
    "        'category.image_url', 'baseToken.address',\n",
    "       'baseToken.name', 'baseToken.symbol', 'baseToken.image_url'])"
   ]
  },
  {
   "cell_type": "code",
   "execution_count": null,
   "metadata": {},
   "outputs": [],
   "source": [
    "df=pd.merge(liked,view,on=[\"id\",\"title\",'comment_count', 'upvote_count',\n",
    "       'view_count', 'exit_count', 'rating_count', 'average_rating',\n",
    "       'share_count','video_link','upvoted','category.name', 'category.count',\n",
    "       'category.description',\"username\",'category.id'],how=\"outer\")\n",
    "df=pd.merge(df,rated,on=[\"id\",\"title\",'comment_count', 'upvote_count',\n",
    "       'view_count', 'exit_count', 'rating_count', 'average_rating',\n",
    "       'share_count','upvoted','category.name', 'category.count',\n",
    "       'category.description',\"username\",\"video_link\",'category.id'],how=\"outer\")\n",
    "df = pd.merge(df, inspire, on=[\"id\",\"title\",'comment_count', 'upvote_count',\n",
    "       'view_count', 'exit_count', 'rating_count', 'average_rating',\n",
    "       'share_count','upvoted','category.name', 'category.count','video_link',\n",
    "       'category.description',\"username\",'category.id'], how=\"outer\",suffixes=('_left', '_right'))"
   ]
  },
  {
   "cell_type": "code",
   "execution_count": null,
   "metadata": {},
   "outputs": [],
   "source": [
    "df[\"username\"]"
   ]
  },
  {
   "cell_type": "code",
   "execution_count": null,
   "metadata": {},
   "outputs": [],
   "source": [
    "df.drop(columns=[\"first_name_x\",\"first_name_y\",\"post_summary_y\",\"post_summary_left\",\"post_summary_right\",\"first_name\"],inplace=True)"
   ]
  },
  {
   "cell_type": "code",
   "execution_count": null,
   "metadata": {},
   "outputs": [],
   "source": [
    "df=pd.merge(df,user, on=[\"id\"],how=\"outer\")"
   ]
  },
  {
   "cell_type": "code",
   "execution_count": null,
   "metadata": {},
   "outputs": [],
   "source": [
    "df[\"username\"]"
   ]
  },
  {
   "cell_type": "code",
   "execution_count": null,
   "metadata": {},
   "outputs": [],
   "source": [
    "df.drop(columns=[\"share_count_x\"],inplace=True)"
   ]
  },
  {
   "cell_type": "code",
   "execution_count": null,
   "metadata": {},
   "outputs": [],
   "source": [
    "# df=df.fillna(0)"
   ]
  },
  {
   "cell_type": "code",
   "execution_count": null,
   "metadata": {},
   "outputs": [],
   "source": [
    "merged_data=df"
   ]
  },
  {
   "cell_type": "code",
   "execution_count": null,
   "metadata": {},
   "outputs": [],
   "source": [
    "# # Fill missing values for text-based columns using .loc\n",
    "# merged_data.loc[:, 'post_summary_x'] = merged_data['post_summary_x'].fillna('')\n",
    "# merged_data.loc[:, 'category.description'] = merged_data['category.description'].fillna('')"
   ]
  },
  {
   "cell_type": "code",
   "execution_count": null,
   "metadata": {},
   "outputs": [],
   "source": [
    "merged_data.columns"
   ]
  },
  {
   "cell_type": "code",
   "execution_count": null,
   "metadata": {},
   "outputs": [],
   "source": [
    "import pandas as pd\n",
    "from sklearn.metrics.pairwise import cosine_similarity\n",
    "from sklearn.feature_extraction.text import TfidfVectorizer\n",
    "\n",
    "# Convert relevant columns to numeric, forcing errors to NaN\n",
    "merged_data['comment_count'] = pd.to_numeric(merged_data['comment_count'], errors='coerce').fillna(0)\n",
    "merged_data['upvote_count'] = pd.to_numeric(merged_data['upvote_count'], errors='coerce').fillna(0)\n",
    "merged_data['view_count'] = pd.to_numeric(merged_data['view_count'], errors='coerce').fillna(0)\n",
    "merged_data['share_count_y'] = pd.to_numeric(merged_data['share_count_y'], errors='coerce').fillna(0)\n",
    "merged_data[\"follower_count\"]= merged_data[\"follower_count\"].fillna('')\n",
    "merged_data[\"following_count\"]=merged_data[\"following_count\"].fillna('')\n",
    "\n",
    "# Calculate engagement score\n",
    "merged_data['engagement_score'] = (\n",
    "    merged_data['comment_count'] +\n",
    "    merged_data['upvote_count'] +\n",
    "    merged_data['view_count'] +\n",
    "    merged_data['share_count_y']\n",
    ")\n",
    "\n",
    "# Ensure all text columns are strings before concatenation\n",
    "merged_data['title'] = merged_data['title'].astype(str)\n",
    "merged_data['post_summary_x'] = merged_data['post_summary_x'].astype(str)\n",
    "merged_data['category.name'] = merged_data['category.name'].astype(str)\n",
    "merged_data['category.description'] = merged_data['category.description'].astype(str)\n",
    "merged_data[\"role\"]=merged_data[\"role\"].astype(str)\n",
    "merged_data[\"follower_count\"]=merged_data[\"follower_count\"].astype(str)\n",
    "merged_data[\"bio\"]=merged_data[\"bio\"].astype(str)\n",
    "merged_data[\"following_count\"]=merged_data[\"following_count\"].astype(str)\n",
    "merged_data[\"is_verified\"]=merged_data[\"is_verified\"].astype(str)\n",
    "merged_data[\"category.name\"]=merged_data[\"category.name\"].astype(str)\n",
    "\n",
    "\n",
    "# Combine text-based columns to create a metadata summary for the content\n",
    "merged_data['metadata'] = (\n",
    "    merged_data['title'] + ' ' +\n",
    "    merged_data['post_summary_x'] + ' ' +\n",
    "    merged_data['category.name'] + ' ' +\n",
    "    merged_data['category.description']\n",
    ")\n",
    "\n",
    "\n",
    "# ## colabrotive columns to create a metadata\n",
    "# merged_data['colabrotive'] = (\n",
    "#     merged_data[\"role\"] + ' ' +\n",
    "#     merged_data[\"follower_count\"]+ ' ' +\n",
    "#     merged_data[\"bio\"] + ' ' +\n",
    "#     merged_data[\"following_count\"]+ ' ' +\n",
    "#     merged_data[\"is_verified\"]+' '+\n",
    "#     merged_data[\"category.name\"]\n",
    "# )\n",
    "\n",
    "\n"
   ]
  },
  {
   "cell_type": "code",
   "execution_count": null,
   "metadata": {},
   "outputs": [],
   "source": [
    "df[\"category.name\"]=df[\"category.name\"].fillna('')"
   ]
  },
  {
   "cell_type": "markdown",
   "metadata": {},
   "source": [
    "### 9. Content Based "
   ]
  },
  {
   "cell_type": "code",
   "execution_count": null,
   "metadata": {},
   "outputs": [],
   "source": [
    "# TF-IDF Vectorization\n",
    "tfidf = TfidfVectorizer(stop_words=\"english\")\n",
    "tfidf_matrix = tfidf.fit_transform(merged_data[\"metadata\"])\n",
    "\n",
    "# Compute Cosine Similarity\n",
    "cosine_sim = cosine_similarity(tfidf_matrix, tfidf_matrix)\n",
    "\n",
    "# Function to recommend videos\n",
    "def recommend_content_based(video_id, cosine_sim, posts_df):\n",
    "    idx = posts_df[posts_df[\"id\"] == video_id].index[0]\n",
    "    similarity_scores = list(enumerate(cosine_sim[idx]))\n",
    "    similarity_scores = sorted(similarity_scores, key=lambda x: x[1], reverse=True)\n",
    "    similar_videos = [posts_df.iloc[i[0]][\"video_link\"] for i in similarity_scores[0:6]]\n",
    "    return similar_videos\n",
    "\n",
    "# Example Recommendation\n",
    "video_id = 1242\n",
    "recommended_videos = recommend_content_based(video_id, cosine_sim, merged_data)\n",
    "print(\"Recommended Videos:\", recommended_videos)\n"
   ]
  },
  {
   "cell_type": "markdown",
   "metadata": {},
   "source": [
    "### 10. Collabrotive "
   ]
  },
  {
   "cell_type": "code",
   "execution_count": null,
   "metadata": {},
   "outputs": [],
   "source": [
    "from sklearn.decomposition import TruncatedSVD\n",
    "import numpy as np\n",
    "\n",
    "# Create a User-Item Interaction Matrix\n",
    "user_item_matrix = merged_data.pivot_table(index=\"username\", columns=\"id\", values=\"engagement_score\", fill_value=0)\n",
    "\n",
    "# Apply SVD\n",
    "svd = TruncatedSVD(n_components=10)\n",
    "user_factors = svd.fit_transform(user_item_matrix)\n",
    "item_factors = svd.components_\n",
    "\n",
    "# Function to recommend based on SVD\n",
    "def recommend_collaborative(user, user_item_matrix, user_factors, item_factors,df):\n",
    "    user_idx = user_item_matrix.index.get_loc(user)\n",
    "    user_vector = user_factors[user_idx]\n",
    "    scores = np.dot(user_vector, item_factors)\n",
    "    top_item_indices = np.argsort(scores)[::-1][:5]\n",
    "    ids=user_item_matrix.columns[top_item_indices]\n",
    "    k=merged_data[merged_data[\"id\"].isin(ids)]\n",
    "    return k[[\"username\",\"id\",\"title\",\"video_link\",\"engagement_score\"]].to_dict(orient=\"records\")\n",
    "\n",
    "# Example Recommendation\n",
    "user = \"Rishwanth\"\n",
    "recommended_videos = recommend_collaborative(user, user_item_matrix, user_factors, item_factors,merged_data)\n",
    "print(\"Recommended Videos:\", recommended_videos)"
   ]
  },
  {
   "cell_type": "markdown",
   "metadata": {},
   "source": [
    "### 11 Hybrid Recomendation "
   ]
  },
  {
   "cell_type": "code",
   "execution_count": null,
   "metadata": {},
   "outputs": [],
   "source": [
    "def recommend_new_user_videos(merged_data):\n",
    "    # 1. Top categories by views\n",
    "    top_categories = (\n",
    "        merged_data.groupby(\"category.name\")[\"view_count\"]\n",
    "        .sum()\n",
    "        .sort_values(ascending=False)\n",
    "        .head(6)\n",
    "        .index\n",
    "    )\n",
    "\n",
    "    # Get top videos from popular categories\n",
    "    category_recommendations = (\n",
    "        merged_data[merged_data[\"category.name\"].isin(top_categories)]\n",
    "        .sort_values(by=\"view_count\", ascending=False)\n",
    "        .head(6)\n",
    "    )\n",
    "\n",
    "    # 2. Top-rated videos\n",
    "    top_rated_videos = (\n",
    "        merged_data.sort_values(by=\"average_rating\", ascending=False)\n",
    "        .head(6)\n",
    "    )\n",
    "\n",
    "    # 3. Most commented videos\n",
    "    most_commented_videos = (\n",
    "        merged_data.sort_values(by=\"comment_count\", ascending=False)\n",
    "        .head(6)\n",
    "    )\n",
    "\n",
    "    # 4. Top viewed videos overall\n",
    "    top_viewed_videos = (\n",
    "        merged_data.sort_values(by=\"view_count\", ascending=False)\n",
    "        .head(6)\n",
    "    )\n",
    "\n",
    "    # Combine all recommendations\n",
    "    recommendations = pd.concat(\n",
    "        [category_recommendations, top_rated_videos, most_commented_videos, top_viewed_videos]\n",
    "    ).drop_duplicates(subset=\"id\")\n",
    "\n",
    "    # Convert to a list of dictionaries\n",
    "    return recommendations[[\"id\", \"title\", \"category.name\", \"video_link\", \"view_count\", \"average_rating\", \"comment_count\"]].sample(5).to_dict()\n",
    "\n"
   ]
  },
  {
   "cell_type": "code",
   "execution_count": null,
   "metadata": {},
   "outputs": [],
   "source": [
    "def recommend_hybrid(user, user_item_matrix, user_factors, item_factors, cosine_sim, posts_df):\n",
    "    if user in user_item_matrix.index:  \n",
    "        conent= recommend_collaborative(user, user_item_matrix, user_factors, item_factors)\n",
    "        user_based=recommend_collaborative(user, user_item_matrix, user_factors)\n",
    "        recomendation=pd.concat([conent,user_based])\n",
    "    else:  \n",
    "        return recommend_new_user_videos(merged_data)\n",
    "\n",
    "\n",
    "user = \"new_user\"  \n",
    "recommended_videos = recommend_hybrid(user, user_item_matrix, user_factors, item_factors, cosine_sim, merged_data)\n",
    "print(\"Recommended Videos:\", recommended_videos)"
   ]
  },
  {
   "cell_type": "code",
   "execution_count": null,
   "metadata": {},
   "outputs": [],
   "source": []
  },
  {
   "cell_type": "code",
   "execution_count": null,
   "metadata": {},
   "outputs": [],
   "source": []
  }
 ],
 "metadata": {
  "kernelspec": {
   "display_name": "env1",
   "language": "python",
   "name": "python3"
  },
  "language_info": {
   "codemirror_mode": {
    "name": "ipython",
    "version": 3
   },
   "file_extension": ".py",
   "mimetype": "text/x-python",
   "name": "python",
   "nbconvert_exporter": "python",
   "pygments_lexer": "ipython3",
   "version": "3.12.4"
  }
 },
 "nbformat": 4,
 "nbformat_minor": 2
}
